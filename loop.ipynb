{
 "cells": [
  {
   "cell_type": "code",
   "execution_count": 11,
   "id": "99e54299-7ac7-486c-96e0-759ba6eea238",
   "metadata": {},
   "outputs": [
    {
     "name": "stdin",
     "output_type": "stream",
     "text": [
      "enter your  marks -34\n"
     ]
    },
    {
     "name": "stdout",
     "output_type": "stream",
     "text": [
      "you will be part of A3 batch\n"
     ]
    }
   ],
   "source": [
    "marks=int(input(\"enter your  marks\"))\n",
    "if marks>=80:\n",
    "    print(\"you will be in A0 class\")\n",
    "elif marks >=60 and marks<80:\n",
    "    print(\"you will be part of A1 batch\")\n",
    "elif marks>=40 and marks<60:\n",
    "    print(\"you will be part of A2 batch\")\n",
    "else:\n",
    "    print(\"you will be part of A3 batch\")"
   ]
  },
  {
   "cell_type": "code",
   "execution_count": 12,
   "id": "5e4e14a2-cbe2-4d99-9ce1-fbfe5378719f",
   "metadata": {},
   "outputs": [
    {
     "data": {
      "text/plain": [
       "int"
      ]
     },
     "execution_count": 12,
     "metadata": {},
     "output_type": "execute_result"
    }
   ],
   "source": [
    "type(marks)"
   ]
  },
  {
   "cell_type": "code",
   "execution_count": 22,
   "id": "40dbd581-576f-4068-8f63-c7b75aa05f72",
   "metadata": {},
   "outputs": [
    {
     "name": "stdin",
     "output_type": "stream",
     "text": [
      "enter the money you have 200\n"
     ]
    },
    {
     "name": "stdout",
     "output_type": "stream",
     "text": [
      "i will purchase\n",
      "im not interested\n"
     ]
    }
   ],
   "source": [
    "price=int(input(\"enter the money you have\"))\n",
    "if price>1000:\n",
    "    print(\"i will not purchase\")\n",
    "    if price>5000:\n",
    "        print(\"this is bigger amount\")\n",
    "    elif price<2000:\n",
    "        print(\"this is ok\")\n",
    "else :\n",
    "    print(\"i will purchase\")\n",
    "    print(\"im not interested\")"
   ]
  },
  {
   "cell_type": "code",
   "execution_count": 23,
   "id": "75b38f38-0362-4f82-aefa-2a1eb6816932",
   "metadata": {},
   "outputs": [],
   "source": [
    "#loop\n"
   ]
  },
  {
   "cell_type": "code",
   "execution_count": 29,
   "id": "fe8d1974-fc82-406d-a9ac-0b279e3c216a",
   "metadata": {},
   "outputs": [],
   "source": [
    "l=[2,3,4,5,6,7,8,9]"
   ]
  },
  {
   "cell_type": "code",
   "execution_count": 30,
   "id": "ac2020a1-c173-465b-a6f2-99b8b68477c1",
   "metadata": {},
   "outputs": [
    {
     "data": {
      "text/plain": [
       "[2, 3, 4, 5, 6, 7, 8, 9]"
      ]
     },
     "execution_count": 30,
     "metadata": {},
     "output_type": "execute_result"
    }
   ],
   "source": [
    "l"
   ]
  },
  {
   "cell_type": "code",
   "execution_count": 31,
   "id": "bde48711-5af7-477a-836d-2e882273c0e1",
   "metadata": {},
   "outputs": [],
   "source": [
    "l1=[]"
   ]
  },
  {
   "cell_type": "code",
   "execution_count": 35,
   "id": "b3fcee30-6ff1-4fb6-bdb8-cba7e1c8639c",
   "metadata": {},
   "outputs": [],
   "source": [
    "l1.append(l[0]+1)"
   ]
  },
  {
   "cell_type": "code",
   "execution_count": 65,
   "id": "55dc35e7-f2c7-45a8-ad9c-b2c5c8d55ef4",
   "metadata": {},
   "outputs": [
    {
     "data": {
      "text/plain": [
       "[1, 2, 3, 4, 5, 6, 7, 8, 9]"
      ]
     },
     "execution_count": 65,
     "metadata": {},
     "output_type": "execute_result"
    }
   ],
   "source": [
    "l"
   ]
  },
  {
   "cell_type": "code",
   "execution_count": 67,
   "id": "aa20d6d3-6b7b-4950-8983-e8a655c2a2d0",
   "metadata": {},
   "outputs": [
    {
     "name": "stdout",
     "output_type": "stream",
     "text": [
      "1\n",
      "2\n",
      "3\n",
      "4\n",
      "5\n",
      "6\n",
      "7\n",
      "8\n",
      "9\n"
     ]
    }
   ],
   "source": [
    "for i in l:\n",
    "    print(i)"
   ]
  },
  {
   "cell_type": "code",
   "execution_count": 69,
   "id": "c33cb7cd-5079-41c7-a703-2fcd9d92de2e",
   "metadata": {},
   "outputs": [
    {
     "name": "stdout",
     "output_type": "stream",
     "text": [
      "2\n",
      "3\n",
      "4\n",
      "5\n",
      "6\n",
      "7\n",
      "8\n",
      "9\n",
      "10\n"
     ]
    }
   ],
   "source": [
    "for i in l:\n",
    "    i=i+1\n",
    "    print(i)"
   ]
  },
  {
   "cell_type": "code",
   "execution_count": null,
   "id": "1b1d5b02-480f-4233-8a5f-2c33cb66313f",
   "metadata": {},
   "outputs": [],
   "source": [
    "for i in (l):\n",
    "    print(i+2)\n"
   ]
  },
  {
   "cell_type": "code",
   "execution_count": 81,
   "id": "b74283d2-1449-4082-bc14-bbc2616d1c42",
   "metadata": {},
   "outputs": [
    {
     "name": "stdout",
     "output_type": "stream",
     "text": [
      "1\n",
      "2\n",
      "100\n"
     ]
    }
   ],
   "source": [
    "for i in 1 ,2,100:\n",
    "    print(i)\n",
    "    "
   ]
  },
  {
   "cell_type": "code",
   "execution_count": 1,
   "id": "71e967be-eed1-46eb-90df-8bb9d09f9225",
   "metadata": {},
   "outputs": [
    {
     "ename": "NameError",
     "evalue": "name 'l' is not defined",
     "output_type": "error",
     "traceback": [
      "\u001b[0;31m---------------------------------------------------------------------------\u001b[0m",
      "\u001b[0;31mNameError\u001b[0m                                 Traceback (most recent call last)",
      "Cell \u001b[0;32mIn[1], line 1\u001b[0m\n\u001b[0;32m----> 1\u001b[0m \u001b[43ml\u001b[49m\n",
      "\u001b[0;31mNameError\u001b[0m: name 'l' is not defined"
     ]
    }
   ],
   "source": [
    "l"
   ]
  },
  {
   "cell_type": "code",
   "execution_count": 2,
   "id": "d6d0967c-28a7-4b14-9c0b-566579062859",
   "metadata": {},
   "outputs": [],
   "source": [
    "l=[\"bipin\",\"kumar\",\"pwslik\",\"dsa\"]"
   ]
  },
  {
   "cell_type": "code",
   "execution_count": 3,
   "id": "db2ff277-4656-4603-a749-50f0f60342cc",
   "metadata": {},
   "outputs": [
    {
     "data": {
      "text/plain": [
       "['bipin', 'kumar', 'pwslik', 'dsa']"
      ]
     },
     "execution_count": 3,
     "metadata": {},
     "output_type": "execute_result"
    }
   ],
   "source": [
    "l"
   ]
  },
  {
   "cell_type": "code",
   "execution_count": 7,
   "id": "c1563b41-94d7-4044-9d8b-bfb351ec051d",
   "metadata": {},
   "outputs": [
    {
     "name": "stdout",
     "output_type": "stream",
     "text": [
      "bipin\n",
      "kumar\n",
      "pwslik\n",
      "dsa\n"
     ]
    }
   ],
   "source": [
    "l1=[]\n",
    "for i in l:\n",
    "    print(i)\n",
    "    l1.append(i.upper())"
   ]
  },
  {
   "cell_type": "code",
   "execution_count": 18,
   "id": "6417ce44-557a-49e6-a6ed-e766f57dbc3d",
   "metadata": {},
   "outputs": [],
   "source": [
    "l=[\"bipin\",\"kumar\",45,24,\"pwslik\",\"dsa\",345.23,23,\"ba\"]"
   ]
  },
  {
   "cell_type": "code",
   "execution_count": 19,
   "id": "d176b9d6-17cd-4099-8ab4-85d2a7ac7284",
   "metadata": {},
   "outputs": [
    {
     "data": {
      "text/plain": [
       "['bipin', 'kumar', 45, 24, 'pwslik', 'dsa', 345.23, 23, 'ba']"
      ]
     },
     "execution_count": 19,
     "metadata": {},
     "output_type": "execute_result"
    }
   ],
   "source": [
    "l"
   ]
  },
  {
   "cell_type": "code",
   "execution_count": 20,
   "id": "979e2527-6f8b-4a55-9993-df8fdc72d7a6",
   "metadata": {},
   "outputs": [
    {
     "name": "stdout",
     "output_type": "stream",
     "text": [
      "bipin\n",
      "kumar\n",
      "45\n"
     ]
    },
    {
     "ename": "AttributeError",
     "evalue": "'int' object has no attribute 'upper'",
     "output_type": "error",
     "traceback": [
      "\u001b[0;31m---------------------------------------------------------------------------\u001b[0m",
      "\u001b[0;31mAttributeError\u001b[0m                            Traceback (most recent call last)",
      "Cell \u001b[0;32mIn[20], line 4\u001b[0m\n\u001b[1;32m      2\u001b[0m \u001b[38;5;28;01mfor\u001b[39;00m i \u001b[38;5;129;01min\u001b[39;00m l:\n\u001b[1;32m      3\u001b[0m     \u001b[38;5;28mprint\u001b[39m(i)\n\u001b[0;32m----> 4\u001b[0m     l1\u001b[38;5;241m.\u001b[39mappend(\u001b[43mi\u001b[49m\u001b[38;5;241;43m.\u001b[39;49m\u001b[43mupper\u001b[49m())\n",
      "\u001b[0;31mAttributeError\u001b[0m: 'int' object has no attribute 'upper'"
     ]
    }
   ],
   "source": [
    "l1=[]\n",
    "for i in l:\n",
    "    print(i)\n",
    "    l1.append(i.upper())"
   ]
  },
  {
   "cell_type": "code",
   "execution_count": 21,
   "id": "933e7481-c4bc-4b6a-b94e-f46ee0287577",
   "metadata": {},
   "outputs": [
    {
     "data": {
      "text/plain": [
       "['bipin', 'kumar', 45, 24, 'pwslik', 'dsa', 345.23, 23, 'ba']"
      ]
     },
     "execution_count": 21,
     "metadata": {},
     "output_type": "execute_result"
    }
   ],
   "source": [
    "l"
   ]
  },
  {
   "cell_type": "code",
   "execution_count": 28,
   "id": "c226d8c3-59de-49ae-8a5a-866de2a9e074",
   "metadata": {},
   "outputs": [],
   "source": [
    "l1=[]\n",
    "l2=[]\n",
    "for i in l:\n",
    "    if type(i)==int or type(i)==float:\n",
    "        l1.append(i)\n",
    "    else:\n",
    "        l2.append(i)"
   ]
  },
  {
   "cell_type": "code",
   "execution_count": 29,
   "id": "c3eecad5-0ae8-4d6e-8880-acc6a67182b3",
   "metadata": {},
   "outputs": [
    {
     "data": {
      "text/plain": [
       "[45, 24, 345.23, 23]"
      ]
     },
     "execution_count": 29,
     "metadata": {},
     "output_type": "execute_result"
    }
   ],
   "source": [
    "l1"
   ]
  },
  {
   "cell_type": "code",
   "execution_count": 25,
   "id": "7f123615-b59e-44da-88fb-3d41b2bd4d84",
   "metadata": {},
   "outputs": [
    {
     "data": {
      "text/plain": [
       "['bipin', 'kumar', 'pwslik', 'dsa', 'ba']"
      ]
     },
     "execution_count": 25,
     "metadata": {},
     "output_type": "execute_result"
    }
   ],
   "source": [
    "l2"
   ]
  },
  {
   "cell_type": "code",
   "execution_count": 26,
   "id": "10b6d99c-fc8c-4a95-bdd3-086b434b198f",
   "metadata": {},
   "outputs": [],
   "source": [
    "l1.extend(l2)"
   ]
  },
  {
   "cell_type": "code",
   "execution_count": 30,
   "id": "dc357bd4-c700-4861-a54c-081631e8a3fa",
   "metadata": {},
   "outputs": [
    {
     "data": {
      "text/plain": [
       "[45, 24, 345.23, 23]"
      ]
     },
     "execution_count": 30,
     "metadata": {},
     "output_type": "execute_result"
    }
   ],
   "source": [
    "l1"
   ]
  },
  {
   "cell_type": "code",
   "execution_count": 31,
   "id": "e4983fdc-618b-4672-b1d3-a21836ab94af",
   "metadata": {},
   "outputs": [
    {
     "data": {
      "text/plain": [
       "['bipin', 'kumar', 'pwslik', 'dsa', 'ba']"
      ]
     },
     "execution_count": 31,
     "metadata": {},
     "output_type": "execute_result"
    }
   ],
   "source": [
    "l2"
   ]
  },
  {
   "cell_type": "code",
   "execution_count": null,
   "id": "91f2c77e-6583-486a-a44c-f31e9d88b4db",
   "metadata": {},
   "outputs": [],
   "source": []
  }
 ],
 "metadata": {
  "kernelspec": {
   "display_name": "Python 3 (ipykernel)",
   "language": "python",
   "name": "python3"
  },
  "language_info": {
   "codemirror_mode": {
    "name": "ipython",
    "version": 3
   },
   "file_extension": ".py",
   "mimetype": "text/x-python",
   "name": "python",
   "nbconvert_exporter": "python",
   "pygments_lexer": "ipython3",
   "version": "3.10.8"
  }
 },
 "nbformat": 4,
 "nbformat_minor": 5
}
